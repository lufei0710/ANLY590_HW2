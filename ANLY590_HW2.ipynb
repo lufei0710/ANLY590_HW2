{
  "nbformat": 4,
  "nbformat_minor": 0,
  "metadata": {
    "colab": {
      "name": "HW2.ipynb",
      "version": "0.3.2",
      "provenance": [],
      "collapsed_sections": []
    },
    "kernelspec": {
      "name": "python3",
      "display_name": "Python 3"
    },
    "accelerator": "GPU"
  },
  "cells": [
    {
      "metadata": {
        "id": "n9lOwkQjHfkY",
        "colab_type": "code",
        "outputId": "51c4554e-da6d-4c1d-fdb3-b4931cf7d9cb",
        "colab": {
          "base_uri": "https://localhost:8080/",
          "height": 34
        }
      },
      "cell_type": "code",
      "source": [
        "import keras\n",
        "from matplotlib import pyplot as plt\n",
        "import numpy as np\n",
        "import gzip\n",
        "from keras.models import Model\n",
        "from keras.optimizers import RMSprop\n",
        "from tensorflow.python import keras\n",
        "from keras.layers import Input,Dense,Flatten,Dropout,merge,Reshape,Conv2D,MaxPooling2D,UpSampling2D,Conv2DTranspose\n",
        "from keras.layers.normalization import BatchNormalization\n",
        "from keras.models import Model,Sequential\n",
        "from keras.callbacks import ModelCheckpoint\n",
        "from keras.optimizers import Adadelta, RMSprop,SGD,Adam\n",
        "from keras import regularizers\n",
        "from keras import backend as K\n",
        "from keras.utils import to_categorical\n",
        "from sklearn.model_selection import train_test_split\n",
        "from keras.models import Sequential\n",
        "import pandas as pd"
      ],
      "execution_count": 1,
      "outputs": [
        {
          "output_type": "stream",
          "text": [
            "Using TensorFlow backend.\n"
          ],
          "name": "stderr"
        }
      ]
    },
    {
      "metadata": {
        "id": "Vmj-4lBU-yEN",
        "colab_type": "code",
        "colab": {}
      },
      "cell_type": "code",
      "source": [
        "# Getting data\n",
        "\n",
        "train = pd.read_csv('fashion-mnist_train.csv')\n",
        "test = pd.read_csv('fashion-mnist_test.csv')\n",
        "\n",
        "print\n",
        "# get data and labels\n",
        "train_data= np.array(train.iloc[:,1:])\n",
        "test_data= np.array(test.iloc[:,1:])\n",
        "train_labels= np.array(train.iloc[:,0]) \n",
        "\n",
        "\n"
      ],
      "execution_count": 0,
      "outputs": []
    },
    {
      "metadata": {
        "id": "ui9QI9onQUt3",
        "colab_type": "code",
        "outputId": "5c57c339-53a5-409e-a6b6-8879b927c830",
        "colab": {
          "base_uri": "https://localhost:8080/",
          "height": 68
        }
      },
      "cell_type": "code",
      "source": [
        "# preprocess the data\n",
        "train_data = train_data.reshape(-1, 28,28, 1)\n",
        "test_data = test_data.reshape(-1, 28,28, 1)\n",
        "print(train_data.dtype)\n",
        "print(train_data.shape)\n",
        "\n",
        "train_data = train_data / np.max(train_data)\n",
        "test_data = test_data / np.max(test_data)\n",
        "print(np.max(train_data))\n",
        "\n",
        "# split train and validation\n",
        "train_X,valid_X,train_ground,valid_ground = train_test_split(train_data,\n",
        "                                                             train_data,\n",
        "                                                             test_size=0.2,\n",
        "                                                             random_state=13)"
      ],
      "execution_count": 5,
      "outputs": [
        {
          "output_type": "stream",
          "text": [
            "int64\n",
            "(60000, 28, 28, 1)\n",
            "1.0\n"
          ],
          "name": "stdout"
        }
      ]
    },
    {
      "metadata": {
        "id": "yMWY7cDIS5nB",
        "colab_type": "code",
        "colab": {}
      },
      "cell_type": "code",
      "source": [
        "# the encode part of the CNN\n",
        "def encoder(input_img):\n",
        "    conv1 = Conv2D(32, (3, 3), activation='relu', padding='same')(input_img) \n",
        "    conv1 = Conv2D(32, (3, 3), activation='relu', padding='same')(conv1)\n",
        "    pool1 = MaxPooling2D(pool_size=(2, 2))(conv1) \n",
        "    conv2 = Conv2D(64, (3, 3), activation='relu', padding='same')(pool1) \n",
        "    conv2 = Conv2D(64, (3, 3), activation='relu', padding='same')(conv2)\n",
        "    pool2 = MaxPooling2D(pool_size=(2, 2))(conv2) \n",
        "    conv3 = Conv2D(128, (3, 3), activation='relu', padding='same')(pool2) \n",
        "    conv3 = Conv2D(128, (3, 3), activation='relu', padding='same')(conv3)\n",
        "    conv4 = Conv2D(256, (3, 3), activation='relu', padding='same')(conv3) \n",
        "    conv4 = Conv2D(256, (3, 3), activation='relu', padding='same')(conv4)\n",
        "    return conv4\n",
        "\n",
        "# The decode part of the cnn\n",
        "def decoder(conv4):    \n",
        "    conv5 = Conv2D(128, (3, 3), activation='relu', padding='same')(conv4)\n",
        "    conv5 = Conv2D(128, (3, 3), activation='relu', padding='same')(conv5)\n",
        "    conv6 = Conv2D(64, (3, 3), activation='relu', padding='same')(conv5) \n",
        "    conv6 = Conv2D(64, (3, 3), activation='relu', padding='same')(conv6)\n",
        "    up1 = UpSampling2D((2,2))(conv6) \n",
        "    conv7 = Conv2D(32, (3, 3), activation='relu', padding='same')(up1) \n",
        "    conv7 = Conv2D(32, (3, 3), activation='relu', padding='same')(conv7)\n",
        "    up2 = UpSampling2D((2,2))(conv7) \n",
        "    decoded = Conv2D(1, (3, 3), activation='sigmoid', padding='same')(up2) \n",
        "    return decoded\n",
        " \n",
        "\n",
        "input_img = Input(shape = (28, 28, 1))\n",
        "\n",
        "# combine and compile the model\n",
        "autoencoder = Model(input_img, decoder(encoder(input_img)))\n",
        "autoencoder.compile(loss='mean_squared_error', optimizer = RMSprop())\n",
        "\n"
      ],
      "execution_count": 0,
      "outputs": []
    },
    {
      "metadata": {
        "id": "zNvBKbOYv6Ld",
        "colab_type": "code",
        "outputId": "7d5b8d6d-f9c3-48a0-a0d2-f8c0739e114f",
        "colab": {
          "base_uri": "https://localhost:8080/",
          "height": 391
        }
      },
      "cell_type": "code",
      "source": [
        "# train the model\n",
        "\n",
        "autoencoder.fit(train_X, train_ground, batch_size=64,epochs=10,verbose=1,validation_data=(valid_X, valid_ground))\n"
      ],
      "execution_count": 8,
      "outputs": [
        {
          "output_type": "stream",
          "text": [
            "Train on 48000 samples, validate on 12000 samples\n",
            "Epoch 1/10\n",
            "48000/48000 [==============================] - 59s 1ms/step - loss: 0.0195 - val_loss: 0.0127\n",
            "Epoch 2/10\n",
            "48000/48000 [==============================] - 50s 1ms/step - loss: 0.0092 - val_loss: 0.0075\n",
            "Epoch 3/10\n",
            "48000/48000 [==============================] - 50s 1ms/step - loss: 0.0067 - val_loss: 0.0058\n",
            "Epoch 4/10\n",
            "48000/48000 [==============================] - 50s 1ms/step - loss: 0.0057 - val_loss: 0.0109\n",
            "Epoch 5/10\n",
            "48000/48000 [==============================] - 50s 1ms/step - loss: 0.0051 - val_loss: 0.0048\n",
            "Epoch 6/10\n",
            "48000/48000 [==============================] - 50s 1ms/step - loss: 0.0047 - val_loss: 0.0041\n",
            "Epoch 7/10\n",
            "48000/48000 [==============================] - 50s 1ms/step - loss: 0.0043 - val_loss: 0.0044\n",
            "Epoch 8/10\n",
            "48000/48000 [==============================] - 50s 1ms/step - loss: 0.0040 - val_loss: 0.0042\n",
            "Epoch 9/10\n",
            "48000/48000 [==============================] - 50s 1ms/step - loss: 0.0037 - val_loss: 0.0046\n",
            "Epoch 10/10\n",
            "48000/48000 [==============================] - 50s 1ms/step - loss: 0.0035 - val_loss: 0.0036\n"
          ],
          "name": "stdout"
        },
        {
          "output_type": "execute_result",
          "data": {
            "text/plain": [
              "<keras.callbacks.History at 0x7f6900cd5470>"
            ]
          },
          "metadata": {
            "tags": []
          },
          "execution_count": 8
        }
      ]
    },
    {
      "metadata": {
        "id": "6-_3fDzwzNu4",
        "colab_type": "code",
        "outputId": "ac88586c-254e-4a11-fa1d-d318daaf0595",
        "colab": {
          "base_uri": "https://localhost:8080/",
          "height": 291
        }
      },
      "cell_type": "code",
      "source": [
        "# plot the original pictures and reconstructed pictures\n",
        "\n",
        "import matplotlib.pyplot as plt\n",
        "\n",
        "n=5\n",
        "for k in range(n):\n",
        "    ax = plt.subplot(2, n, k+1)\n",
        "    plt.imshow(test_data[k:k+1,:].reshape((28,28)))\n",
        "    ax = plt.subplot(2, n, k+1 + n)\n",
        "    reconstruction = autoencoder.predict(test_data[k:k+1,:])\n",
        "    reconstruction.resize((28,28))\n",
        "    plt.imshow(reconstruction)"
      ],
      "execution_count": 9,
      "outputs": [
        {
          "output_type": "display_data",
          "data": {
            "image/png": "[encoded data removed]",
            "text/plain": [
              "<matplotlib.figure.Figure at 0x7f68f7c5ab38>"
            ]
          },
          "metadata": {
            "tags": []
          }
        }
      ]
    },
    {
      "metadata": {
        "id": "UgTPpS-hpOjN",
        "colab_type": "code",
        "outputId": "b92b8b8a-e6f8-46be-b860-574138f8db75",
        "colab": {
          "base_uri": "https://localhost:8080/",
          "height": 479
        }
      },
      "cell_type": "code",
      "source": [
        "# Question 2\n",
        "\n",
        "\n",
        "#Model\n",
        "# For this cnn\n",
        "# I used two convolunational layers both with 2x2 kernel size since the dimension of the image is not that large\n",
        "# each convolutional layer is followed by a max pooling layer that reduces the size by 2\n",
        "# I chose same padding so that the input is padded to a multiple of 2\n",
        "# the activation function I chose is relu for both convlutional layers\n",
        "\n",
        "# that I flatten the input\n",
        "# followed by a regular fully connected hidden layer with 256 neurons and a activation function of relu\n",
        "# then a dropout layer to possibly reduce overfitting\n",
        "# then finally a final fully connected output layer with softmax probabilities functions\n",
        "model = Sequential()\n",
        "\n",
        "model.add(Conv2D(filters=64, kernel_size=(2,2), padding = 'same', activation='relu', input_shape=(28, 28, 1)))\n",
        "model.add(MaxPooling2D(pool_size=2))\n",
        "model.add(Conv2D(filters=32, kernel_size=(2, 2), padding='same', \n",
        "                 activation='relu'))\n",
        "model.add(MaxPooling2D(pool_size=2))\n",
        "\n",
        "model.add(Flatten())\n",
        "model.add(Dense(256, activation='relu'))\n",
        "model.add(Dropout(0.2))\n",
        "model.add(Dense(output_dim = 10, activation = 'softmax'))\n",
        "\n",
        "\n",
        "model.compile(loss=keras.losses.categorical_crossentropy,\n",
        "              optimizer='adam',\n",
        "              metrics=['accuracy'])\n",
        "\n",
        "print(model.summary())"
      ],
      "execution_count": 0,
      "outputs": [
        {
          "output_type": "stream",
          "text": [
            "_________________________________________________________________\n",
            "Layer (type)                 Output Shape              Param #   \n",
            "=================================================================\n",
            "conv2d_17 (Conv2D)           (None, 28, 28, 64)        320       \n",
            "_________________________________________________________________\n",
            "max_pooling2d_11 (MaxPooling (None, 14, 14, 64)        0         \n",
            "_________________________________________________________________\n",
            "conv2d_18 (Conv2D)           (None, 14, 14, 32)        8224      \n",
            "_________________________________________________________________\n",
            "max_pooling2d_12 (MaxPooling (None, 7, 7, 32)          0         \n",
            "_________________________________________________________________\n",
            "flatten_6 (Flatten)          (None, 1568)              0         \n",
            "_________________________________________________________________\n",
            "dense_11 (Dense)             (None, 256)               401664    \n",
            "_________________________________________________________________\n",
            "dropout_1 (Dropout)          (None, 256)               0         \n",
            "_________________________________________________________________\n",
            "dense_12 (Dense)             (None, 10)                2570      \n",
            "=================================================================\n",
            "Total params: 412,778\n",
            "Trainable params: 412,778\n",
            "Non-trainable params: 0\n",
            "_________________________________________________________________\n",
            "None\n"
          ],
          "name": "stdout"
        },
        {
          "output_type": "stream",
          "text": [
            "/usr/local/lib/python3.6/dist-packages/ipykernel_launcher.py:12: UserWarning: Update your `Dense` call to the Keras 2 API: `Dense(activation=\"softmax\", units=10)`\n",
            "  if sys.path[0] == '':\n"
          ],
          "name": "stderr"
        }
      ]
    },
    {
      "metadata": {
        "id": "rtOZnZwmJWI0",
        "colab_type": "code",
        "colab": {}
      },
      "cell_type": "code",
      "source": [
        "# Split training and validations\n",
        "# get dummies for labels\n",
        "\n",
        "X_train, X_val, y_train, y_val = train_test_split(train_data,\n",
        "                                                  train_labels,\n",
        "                                                  test_size=0.2,\n",
        "                                                  random_state=13)\n",
        "\n",
        "y_train = pd.get_dummies(y_train)\n",
        "y_val = pd.get_dummies(y_val)"
      ],
      "execution_count": 0,
      "outputs": []
    },
    {
      "metadata": {
        "id": "okaY5FyfDUyr",
        "colab_type": "code",
        "outputId": "b2d0e773-b2bf-4346-b6c3-5910ffc34be6",
        "colab": {
          "base_uri": "https://localhost:8080/",
          "height": 751
        }
      },
      "cell_type": "code",
      "source": [
        "model.fit(X_train, y_train,\n",
        "          batch_size=128,\n",
        "          epochs=20,\n",
        "          verbose=1,\n",
        "          validation_data=(X_val, y_val))"
      ],
      "execution_count": 0,
      "outputs": [
        {
          "output_type": "stream",
          "text": [
            "Train on 48000 samples, validate on 12000 samples\n",
            "Epoch 1/20\n",
            "48000/48000 [==============================] - 5s 114us/step - loss: 0.0824 - acc: 0.9688 - val_loss: 0.2737 - val_acc: 0.9218\n",
            "Epoch 2/20\n",
            "48000/48000 [==============================] - 5s 114us/step - loss: 0.0731 - acc: 0.9728 - val_loss: 0.2742 - val_acc: 0.9219\n",
            "Epoch 3/20\n",
            "48000/48000 [==============================] - 5s 114us/step - loss: 0.0653 - acc: 0.9757 - val_loss: 0.2987 - val_acc: 0.9170\n",
            "Epoch 4/20\n",
            "48000/48000 [==============================] - 5s 114us/step - loss: 0.0616 - acc: 0.9767 - val_loss: 0.3094 - val_acc: 0.9184\n",
            "Epoch 5/20\n",
            "48000/48000 [==============================] - 5s 114us/step - loss: 0.0589 - acc: 0.9784 - val_loss: 0.3090 - val_acc: 0.9218\n",
            "Epoch 6/20\n",
            "48000/48000 [==============================] - 5s 114us/step - loss: 0.0523 - acc: 0.9805 - val_loss: 0.3278 - val_acc: 0.9210\n",
            "Epoch 7/20\n",
            "48000/48000 [==============================] - 5s 114us/step - loss: 0.0520 - acc: 0.9806 - val_loss: 0.3186 - val_acc: 0.9210\n",
            "Epoch 8/20\n",
            "48000/48000 [==============================] - 5s 114us/step - loss: 0.0471 - acc: 0.9830 - val_loss: 0.3346 - val_acc: 0.9207\n",
            "Epoch 9/20\n",
            "48000/48000 [==============================] - 5s 114us/step - loss: 0.0440 - acc: 0.9831 - val_loss: 0.3384 - val_acc: 0.9207\n",
            "Epoch 10/20\n",
            "48000/48000 [==============================] - 5s 114us/step - loss: 0.0411 - acc: 0.9849 - val_loss: 0.3595 - val_acc: 0.9218\n",
            "Epoch 11/20\n",
            "48000/48000 [==============================] - 5s 114us/step - loss: 0.0389 - acc: 0.9861 - val_loss: 0.3626 - val_acc: 0.9218\n",
            "Epoch 12/20\n",
            "48000/48000 [==============================] - 5s 114us/step - loss: 0.0359 - acc: 0.9868 - val_loss: 0.3701 - val_acc: 0.9191\n",
            "Epoch 13/20\n",
            "48000/48000 [==============================] - 5s 114us/step - loss: 0.0386 - acc: 0.9858 - val_loss: 0.3632 - val_acc: 0.9197\n",
            "Epoch 14/20\n",
            "48000/48000 [==============================] - 5s 114us/step - loss: 0.0313 - acc: 0.9887 - val_loss: 0.3904 - val_acc: 0.9204\n",
            "Epoch 15/20\n",
            "48000/48000 [==============================] - 5s 114us/step - loss: 0.0330 - acc: 0.9888 - val_loss: 0.3907 - val_acc: 0.9210\n",
            "Epoch 16/20\n",
            "48000/48000 [==============================] - 5s 115us/step - loss: 0.0311 - acc: 0.9883 - val_loss: 0.3790 - val_acc: 0.9226\n",
            "Epoch 17/20\n",
            "48000/48000 [==============================] - 5s 114us/step - loss: 0.0304 - acc: 0.9889 - val_loss: 0.3850 - val_acc: 0.9214\n",
            "Epoch 18/20\n",
            "48000/48000 [==============================] - 5s 114us/step - loss: 0.0291 - acc: 0.9889 - val_loss: 0.4052 - val_acc: 0.9222\n",
            "Epoch 19/20\n",
            "48000/48000 [==============================] - 5s 114us/step - loss: 0.0280 - acc: 0.9899 - val_loss: 0.4276 - val_acc: 0.9204\n",
            "Epoch 20/20\n",
            "48000/48000 [==============================] - 5s 114us/step - loss: 0.0264 - acc: 0.9902 - val_loss: 0.4194 - val_acc: 0.9204\n"
          ],
          "name": "stdout"
        },
        {
          "output_type": "execute_result",
          "data": {
            "text/plain": [
              "<keras.callbacks.History at 0x7f89f1c31278>"
            ]
          },
          "metadata": {
            "tags": []
          },
          "execution_count": 48
        }
      ]
    },
    {
      "metadata": {
        "id": "N49jQWOCSwwC",
        "colab_type": "code",
        "colab": {}
      },
      "cell_type": "code",
      "source": [
        "# Question 2.2\n",
        "from keras.applications import VGG16;\n",
        "from keras.applications.vgg16 import preprocess_input"
      ],
      "execution_count": 0,
      "outputs": []
    },
    {
      "metadata": {
        "id": "78LWLPFIXQ8p",
        "colab_type": "code",
        "colab": {}
      },
      "cell_type": "code",
      "source": [
        "train_data = pd.read_csv('fashion-mnist_train.csv')\n",
        "test_data = pd.read_csv('fashion-mnist_test.csv')\n",
        "\n",
        "# get data and labels\n",
        "train_X= np.array(train_data.iloc[:,1:])\n",
        "test_X= np.array(test_data.iloc[:,1:])\n",
        "train_Y= np.array (train_data.iloc[:,0]) "
      ],
      "execution_count": 0,
      "outputs": []
    },
    {
      "metadata": {
        "id": "ZZOlde67HENY",
        "colab_type": "code",
        "outputId": "aa747438-e807-4ab3-eff7-4996e41f5c52",
        "colab": {
          "base_uri": "https://localhost:8080/",
          "height": 34
        }
      },
      "cell_type": "code",
      "source": [
        "train_X=np.dstack([train_X] * 3)\n",
        "test_X=np.dstack([test_X]*3)\n",
        "\n",
        "train_X = train_X.reshape(-1, 28,28,3)\n",
        "test_X= test_X.reshape (-1,28,28,3)\n",
        "\n",
        "from keras.preprocessing.image import img_to_array, array_to_img\n",
        "\n",
        "train_X = np.asarray([img_to_array(array_to_img(im, scale=False).resize((48,48))) for im in train_X])\n",
        "test_X = np.asarray([img_to_array(array_to_img(im, scale=False).resize((48,48))) for im in test_X])\n",
        "\n",
        "train_X.shape, test_X.shape"
      ],
      "execution_count": 0,
      "outputs": [
        {
          "output_type": "execute_result",
          "data": {
            "text/plain": [
              "((60000, 48, 48, 3), (10000, 48, 48, 3))"
            ]
          },
          "metadata": {
            "tags": []
          },
          "execution_count": 6
        }
      ]
    },
    {
      "metadata": {
        "id": "ls6O2jjNIVMT",
        "colab_type": "code",
        "colab": {}
      },
      "cell_type": "code",
      "source": [
        "train_X = train_X / 255.\n",
        "test_X = test_X / 255.\n",
        "train_X = train_X.astype('float32')\n",
        "test_X = test_X.astype('float32')"
      ],
      "execution_count": 0,
      "outputs": []
    },
    {
      "metadata": {
        "id": "Z77_wPqxIfNE",
        "colab_type": "code",
        "colab": {}
      },
      "cell_type": "code",
      "source": [
        "train_Y_one_hot = to_categorical(train_Y)\n",
        "test_Y_one_hot = to_categorical(test_Y)"
      ],
      "execution_count": 0,
      "outputs": []
    },
    {
      "metadata": {
        "id": "3AQc3aRMIgOK",
        "colab_type": "code",
        "colab": {}
      },
      "cell_type": "code",
      "source": [
        "train_X,valid_X,train_label,valid_label = train_test_split(train_X,\n",
        "                                                           train_Y_one_hot,\n",
        "                                                           test_size=0.2,\n",
        "                                                           random_state=13\n",
        "                                                           )"
      ],
      "execution_count": 0,
      "outputs": []
    },
    {
      "metadata": {
        "id": "77h2OVDEIkDl",
        "colab_type": "code",
        "outputId": "384426e1-26f3-49bc-d3b5-477b5e6017f3",
        "colab": {
          "base_uri": "https://localhost:8080/",
          "height": 34
        }
      },
      "cell_type": "code",
      "source": [
        "train_X.shape,valid_X.shape,train_label.shape,valid_label.shape\n"
      ],
      "execution_count": 0,
      "outputs": [
        {
          "output_type": "execute_result",
          "data": {
            "text/plain": [
              "((48000, 48, 48, 3), (12000, 48, 48, 3), (48000, 10), (12000, 10))"
            ]
          },
          "metadata": {
            "tags": []
          },
          "execution_count": 10
        }
      ]
    },
    {
      "metadata": {
        "id": "yitKakXOIo-B",
        "colab_type": "code",
        "colab": {}
      },
      "cell_type": "code",
      "source": [
        "from keras.applications.vgg16 import preprocess_input\n",
        "\n",
        "\n",
        "IMG_WIDTH = 48\n",
        "IMG_HEIGHT = 48\n",
        "IMG_DEPTH = 3\n",
        "BATCH_SIZE = 16\n",
        "\n",
        "train_X = preprocess_input(train_X)\n",
        "valid_X = preprocess_input(valid_X)\n",
        "test_X  = preprocess_input (test_X)"
      ],
      "execution_count": 0,
      "outputs": []
    },
    {
      "metadata": {
        "id": "ikWvLF1WIvZf",
        "colab_type": "code",
        "colab": {}
      },
      "cell_type": "code",
      "source": [
        "# base model \n",
        "conv_base = VGG16(weights='imagenet',\n",
        "                  include_top=False, \n",
        "                  input_shape=(IMG_HEIGHT, IMG_WIDTH, IMG_DEPTH)\n",
        "                 )"
      ],
      "execution_count": 0,
      "outputs": []
    },
    {
      "metadata": {
        "id": "hurNyGYXJCN9",
        "colab_type": "code",
        "outputId": "d93399eb-9dce-4c60-808d-f8eceab82c57",
        "colab": {
          "base_uri": "https://localhost:8080/",
          "height": 68
        }
      },
      "cell_type": "code",
      "source": [
        "# Extracting features\n",
        "train_features = conv_base.predict(np.array(train_X), batch_size=BATCH_SIZE, verbose=1)\n",
        "test_features = conv_base.predict(np.array(test_X), batch_size=BATCH_SIZE, verbose=1)\n",
        "val_features = conv_base.predict(np.array(valid_X), batch_size=BATCH_SIZE, verbose=1)"
      ],
      "execution_count": 0,
      "outputs": [
        {
          "output_type": "stream",
          "text": [
            "48000/48000 [==============================] - 52s 1ms/step\n",
            "10000/10000 [==============================] - 10s 1ms/step\n",
            "12000/12000 [==============================] - 13s 1ms/step\n"
          ],
          "name": "stdout"
        }
      ]
    },
    {
      "metadata": {
        "id": "99IdiXjRJZJL",
        "colab_type": "code",
        "colab": {}
      },
      "cell_type": "code",
      "source": [
        "# Flatten extracted features\n",
        "train_features_flat = np.reshape(train_features, (48000, 1*1*512))\n",
        "test_features_flat = np.reshape(test_features, (10000, 1*1*512))\n",
        "val_features_flat = np.reshape(val_features, (12000, 1*1*512))"
      ],
      "execution_count": 0,
      "outputs": []
    },
    {
      "metadata": {
        "id": "mwcXyL57JH_S",
        "colab_type": "code",
        "colab": {}
      },
      "cell_type": "code",
      "source": [
        "from keras import models\n",
        "from keras.models import Model\n",
        "from keras import layers\n",
        "from keras import optimizers\n",
        "\n",
        "NB_TRAIN_SAMPLES = train_features_flat.shape[0]\n",
        "NB_VALIDATION_SAMPLES = val_features_flat.shape[0]\n",
        "NB_EPOCHS = 100\n",
        "\n",
        "model = models.Sequential()\n",
        "model.add(layers.Dense(512, activation='relu', input_dim=(1*1*512)))\n",
        "model.add(layers.Dense(10, activation='softmax'))\n",
        "\n",
        "model.compile(\n",
        "    loss='categorical_crossentropy',\n",
        "    optimizer=optimizers.Adam(),\n",
        "    metrics=['acc'])"
      ],
      "execution_count": 0,
      "outputs": []
    },
    {
      "metadata": {
        "id": "pBP7JZ2pKK00",
        "colab_type": "code",
        "outputId": "9775b790-4c71-4b5d-c510-81591fa9d48d",
        "colab": {
          "base_uri": "https://localhost:8080/",
          "height": 751
        }
      },
      "cell_type": "code",
      "source": [
        "model.fit(\n",
        "    train_features_flat,\n",
        "    train_label,\n",
        "    epochs=20,\n",
        "    validation_data=(val_features_flat, valid_label)\n",
        ")"
      ],
      "execution_count": 0,
      "outputs": [
        {
          "output_type": "stream",
          "text": [
            "Train on 48000 samples, validate on 12000 samples\n",
            "Epoch 1/20\n",
            "48000/48000 [==============================] - 8s 177us/step - loss: 0.8215 - acc: 0.6982 - val_loss: 0.8181 - val_acc: 0.7002\n",
            "Epoch 2/20\n",
            "48000/48000 [==============================] - 9s 181us/step - loss: 0.8142 - acc: 0.7013 - val_loss: 0.8521 - val_acc: 0.6744\n",
            "Epoch 3/20\n",
            "48000/48000 [==============================] - 9s 181us/step - loss: 0.8101 - acc: 0.7024 - val_loss: 0.7953 - val_acc: 0.7095\n",
            "Epoch 4/20\n",
            "48000/48000 [==============================] - 9s 182us/step - loss: 0.7986 - acc: 0.7070 - val_loss: 0.7795 - val_acc: 0.7192\n",
            "Epoch 5/20\n",
            "48000/48000 [==============================] - 9s 181us/step - loss: 0.7939 - acc: 0.7083 - val_loss: 0.7815 - val_acc: 0.7140\n",
            "Epoch 6/20\n",
            "48000/48000 [==============================] - 9s 181us/step - loss: 0.7918 - acc: 0.7091 - val_loss: 0.8021 - val_acc: 0.7047\n",
            "Epoch 7/20\n",
            "48000/48000 [==============================] - 9s 181us/step - loss: 0.7832 - acc: 0.7115 - val_loss: 0.7962 - val_acc: 0.6974\n",
            "Epoch 8/20\n",
            "48000/48000 [==============================] - 9s 181us/step - loss: 0.7816 - acc: 0.7116 - val_loss: 0.8343 - val_acc: 0.6890\n",
            "Epoch 9/20\n",
            "48000/48000 [==============================] - 9s 182us/step - loss: 0.7828 - acc: 0.7117 - val_loss: 0.7887 - val_acc: 0.7147\n",
            "Epoch 10/20\n",
            "48000/48000 [==============================] - 9s 181us/step - loss: 0.7685 - acc: 0.7192 - val_loss: 0.8415 - val_acc: 0.6832\n",
            "Epoch 11/20\n",
            "48000/48000 [==============================] - 9s 180us/step - loss: 0.7688 - acc: 0.7185 - val_loss: 0.8067 - val_acc: 0.7107\n",
            "Epoch 12/20\n",
            "48000/48000 [==============================] - 9s 181us/step - loss: 0.7645 - acc: 0.7192 - val_loss: 0.7756 - val_acc: 0.7188\n",
            "Epoch 13/20\n",
            "48000/48000 [==============================] - 9s 180us/step - loss: 0.7593 - acc: 0.7214 - val_loss: 0.7604 - val_acc: 0.7254\n",
            "Epoch 14/20\n",
            "48000/48000 [==============================] - 9s 180us/step - loss: 0.7594 - acc: 0.7223 - val_loss: 0.7555 - val_acc: 0.7193\n",
            "Epoch 15/20\n",
            "48000/48000 [==============================] - 9s 181us/step - loss: 0.7578 - acc: 0.7239 - val_loss: 0.8200 - val_acc: 0.7056\n",
            "Epoch 16/20\n",
            "48000/48000 [==============================] - 9s 179us/step - loss: 0.7501 - acc: 0.7261 - val_loss: 0.7325 - val_acc: 0.7284\n",
            "Epoch 17/20\n",
            "48000/48000 [==============================] - 9s 178us/step - loss: 0.7508 - acc: 0.7260 - val_loss: 0.8222 - val_acc: 0.6950\n",
            "Epoch 18/20\n",
            "48000/48000 [==============================] - 9s 181us/step - loss: 0.7474 - acc: 0.7244 - val_loss: 0.7408 - val_acc: 0.7312\n",
            "Epoch 19/20\n",
            "48000/48000 [==============================] - 9s 180us/step - loss: 0.7474 - acc: 0.7257 - val_loss: 0.7316 - val_acc: 0.7314\n",
            "Epoch 20/20\n",
            "48000/48000 [==============================] - 9s 179us/step - loss: 0.7405 - acc: 0.7270 - val_loss: 0.7422 - val_acc: 0.7278\n"
          ],
          "name": "stdout"
        },
        {
          "output_type": "execute_result",
          "data": {
            "text/plain": [
              "<keras.callbacks.History at 0x7ffa09f6af98>"
            ]
          },
          "metadata": {
            "tags": []
          },
          "execution_count": 27
        }
      ]
    },
    {
      "metadata": {
        "id": "sLDbVb0pzDVN",
        "colab_type": "code",
        "outputId": "56a7a462-446e-4b13-c836-ab1347cc0d3c",
        "colab": {
          "base_uri": "https://localhost:8080/",
          "height": 54
        }
      },
      "cell_type": "code",
      "source": [
        "# Question 3.1\n",
        "\n",
        "# getting the data\n",
        "beg = pd.read_csv('benign-urls.txt')\n",
        "mal = pd.read_csv('malicious-urls.txt', header = None)\n",
        "mal['label'] = 1\n",
        "beg['label'] = 0\n",
        "\n",
        "mal.columns = ['text', 'label']\n",
        "beg.columns = ['text', 'label']\n",
        "\n",
        "\n",
        "url_data = pd.concat([mal, beg])\n",
        "\n",
        "\n",
        "# proprocess the data\n",
        "class_zero = url_data[url_data['label'] == 0].reset_index()\n",
        "class_one = url_data[url_data['label'] == 1].reset_index()\n",
        "\n",
        "class_zero = class_zero.truncate(before=1, after=class_one.shape[0])\n",
        "\n",
        "url_data = pd.concat([class_zero, class_one])\n",
        "url_data = url_data.sample(frac=1.0).reset_index()\n",
        "\n",
        "\n",
        "# getting a character level model for the data\n",
        "char2idx = dict()\n",
        "max_url_seq_length = 0\n",
        "for url in url_data['text']:\n",
        "    max_url_seq_length = max(max_url_seq_length, len(url))\n",
        "    for c in url:\n",
        "      if c not in char2idx:\n",
        "        char2idx[c] = len(char2idx)\n",
        "num_input_tokens = len(char2idx)\n",
        "idx2char = dict([(idx, c) for c, idx in char2idx.items()])\n",
        "\n",
        "config = dict()\n",
        "config['num_input_tokens'] = num_input_tokens\n",
        "config['char2idx'] = char2idx\n",
        "config['idx2char'] = idx2char\n",
        "config['max_url_seq_length'] = max_url_seq_length\n",
        "\n",
        "print(config)\n",
        "\n",
        "text_model = config"
      ],
      "execution_count": 0,
      "outputs": [
        {
          "output_type": "stream",
          "text": [
            "{'num_input_tokens': 39, 'char2idx': {'.': 0, 'g': 1, 'o': 2, 'l': 3, 'e': 4, 'c': 5, 'm': 6, 'f': 7, 'a': 8, 'n': 9, 'u': 10, 's': 11, 'b': 12, 'y': 13, 'd': 14, 'i': 15, 't': 16, 'r': 17, 'h': 18, 'p': 19, 'v': 20, 'j': 21, '2': 22, '5': 23, 'w': 24, 'x': 25, 'k': 26, 'z': 27, '3': 28, '7': 29, '4': 30, '-': 31, '8': 32, '1': 33, 'q': 34, '0': 35, '6': 36, 'G': 37, '9': 38}, 'idx2char': {0: '.', 1: 'g', 2: 'o', 3: 'l', 4: 'e', 5: 'c', 6: 'm', 7: 'f', 8: 'a', 9: 'n', 10: 'u', 11: 's', 12: 'b', 13: 'y', 14: 'd', 15: 'i', 16: 't', 17: 'r', 18: 'h', 19: 'p', 20: 'v', 21: 'j', 22: '2', 23: '5', 24: 'w', 25: 'x', 26: 'k', 27: 'z', 28: '3', 29: '7', 30: '4', 31: '-', 32: '8', 33: '1', 34: 'q', 35: '0', 36: '6', 37: 'G', 38: '9'}, 'max_url_seq_length': 58}\n"
          ],
          "name": "stdout"
        }
      ]
    },
    {
      "metadata": {
        "id": "DjuC9m0KFdPC",
        "colab_type": "code",
        "colab": {}
      },
      "cell_type": "code",
      "source": [
        "# Function for extracting url data\n",
        "def extract_training_data(url_data):\n",
        "        data_size = url_data.shape[0]\n",
        "        X = np.zeros(shape=(data_size, max_url_seq_length, num_input_tokens))\n",
        "        Y = np.zeros(shape=(data_size, 2))\n",
        "        for i in range(data_size):\n",
        "            url = url_data['text'][i]\n",
        "            label = url_data['label'][i]\n",
        "            for idx, c in enumerate(url):\n",
        "                X[i, idx, char2idx[c]] = 1\n",
        "            Y[i, label] = 1\n",
        "\n",
        "        return X, Y\n",
        "      "
      ],
      "execution_count": 0,
      "outputs": []
    },
    {
      "metadata": {
        "id": "8G3CXVYi6TTy",
        "colab_type": "code",
        "colab": {}
      },
      "cell_type": "code",
      "source": [
        "# build a LSTM model\n",
        "from keras.layers import LSTM, Dense, Dropout, Activation\n",
        "\n",
        "\n",
        "batch_size = 64\n",
        "epochs = 10\n",
        "NB_LSTM_CELLS = 256\n",
        "NB_DENSE_CELLS = 256\n",
        "\n",
        "num_input_tokens = text_model['num_input_tokens']\n",
        "char2idx = text_model['char2idx']\n",
        "idx2char = text_model['idx2char']\n",
        "max_url_seq_length = text_model['max_url_seq_length']\n",
        "\n",
        "X, Y = extract_training_data(url_data)\n",
        "Xtrain, Xtest, Ytrain, Ytest = train_test_split(X, Y, test_size=0.2, random_state=13)\n",
        "\n",
        "model = Sequential()\n",
        "model.add(LSTM(NB_LSTM_CELLS, input_shape=(None, num_input_tokens), return_sequences=False, return_state=False, dropout=0.2))\n",
        "model.add(Dense(NB_DENSE_CELLS))\n",
        "model.add(Dropout(0.3))\n",
        "model.add(Dense(2))\n",
        "model.add(Activation('softmax'))\n",
        "\n",
        "model.compile(optimizer='adam', loss='categorical_crossentropy', metrics=['accuracy'])\n",
        "\n",
        "\n"
      ],
      "execution_count": 0,
      "outputs": []
    },
    {
      "metadata": {
        "id": "msfAgRfGGalh",
        "colab_type": "code",
        "outputId": "dce4e1be-7480-4742-ed52-ab0ea5facca0",
        "colab": {
          "base_uri": "https://localhost:8080/",
          "height": 411
        }
      },
      "cell_type": "code",
      "source": [
        "model.fit(Xtrain, Ytrain, batch_size=batch_size, epochs=epochs, verbose=1,\n",
        "                                 validation_data=(Xtest, Ytest))"
      ],
      "execution_count": 0,
      "outputs": [
        {
          "output_type": "stream",
          "text": [
            "Train on 2073 samples, validate on 519 samples\n",
            "Epoch 1/10\n",
            "2073/2073 [==============================] - 7s 3ms/step - loss: 0.6952 - acc: 0.5070 - val_loss: 0.6927 - val_acc: 0.5125\n",
            "Epoch 2/10\n",
            "2073/2073 [==============================] - 5s 2ms/step - loss: 0.6933 - acc: 0.4945 - val_loss: 0.6940 - val_acc: 0.4875\n",
            "Epoch 3/10\n",
            "2073/2073 [==============================] - 5s 2ms/step - loss: 0.6931 - acc: 0.5200 - val_loss: 0.6925 - val_acc: 0.5125\n",
            "Epoch 4/10\n",
            "2073/2073 [==============================] - 5s 2ms/step - loss: 0.6921 - acc: 0.5162 - val_loss: 0.6852 - val_acc: 0.5703\n",
            "Epoch 5/10\n",
            "2073/2073 [==============================] - 5s 2ms/step - loss: 0.4911 - acc: 0.7926 - val_loss: 0.2914 - val_acc: 0.8979\n",
            "Epoch 6/10\n",
            "2073/2073 [==============================] - 5s 2ms/step - loss: 0.3771 - acc: 0.8490 - val_loss: 0.3197 - val_acc: 0.9345\n",
            "Epoch 7/10\n",
            "2073/2073 [==============================] - 5s 2ms/step - loss: 0.3139 - acc: 0.8751 - val_loss: 0.3370 - val_acc: 0.9345\n",
            "Epoch 8/10\n",
            "2073/2073 [==============================] - 5s 2ms/step - loss: 0.3356 - acc: 0.8818 - val_loss: 0.2528 - val_acc: 0.9152\n",
            "Epoch 9/10\n",
            "2073/2073 [==============================] - 5s 2ms/step - loss: 0.3047 - acc: 0.8857 - val_loss: 0.3028 - val_acc: 0.9306\n",
            "Epoch 10/10\n",
            "2073/2073 [==============================] - 5s 2ms/step - loss: 0.3067 - acc: 0.8799 - val_loss: 0.2692 - val_acc: 0.9268\n"
          ],
          "name": "stdout"
        },
        {
          "output_type": "execute_result",
          "data": {
            "text/plain": [
              "<keras.callbacks.History at 0x7f89d9729828>"
            ]
          },
          "metadata": {
            "tags": []
          },
          "execution_count": 115
        }
      ]
    },
    {
      "metadata": {
        "id": "91-3P43XX7g5",
        "colab_type": "code",
        "colab": {}
      },
      "cell_type": "code",
      "source": [
        "\n",
        "# Question 3.2\n",
        "from keras.layers import Embedding, SpatialDropout1D, Conv1D, MaxPooling1D, LSTM, Dense\n",
        "\n",
        "\n",
        "NB_LSTM_CELLS = 256\n",
        "NB_DENSE_CELLS = 256\n",
        "EMBEDDING_SIZE = 100"
      ],
      "execution_count": 0,
      "outputs": []
    },
    {
      "metadata": {
        "id": "oWIZJP71drzN",
        "colab_type": "code",
        "colab": {}
      },
      "cell_type": "code",
      "source": [
        "# function for extracting data from url dataframe\n",
        "def extract_training_data(url_data):\n",
        "        data_size = url_data.shape[0]\n",
        "        X = np.zeros(shape=(data_size, max_url_seq_length))\n",
        "        Y = np.zeros(shape=(data_size, 2))\n",
        "        for i in range(data_size):\n",
        "            url = url_data['text'][i]\n",
        "            label = url_data['label'][i]\n",
        "            for idx, c in enumerate(url):\n",
        "                X[i, idx] = char2idx[c]\n",
        "            Y[i, label] = 1\n",
        "\n",
        "        return X, Y"
      ],
      "execution_count": 0,
      "outputs": []
    },
    {
      "metadata": {
        "id": "Bzf2V5aqdyV_",
        "colab_type": "code",
        "colab": {}
      },
      "cell_type": "code",
      "source": [
        "# Get data\n",
        "X, Y = extract_training_data(url_data)\n",
        "Xtrain, Xtest, Ytrain, Ytest = train_test_split(X, Y, test_size=0.2, random_state=1994)\n",
        "\n",
        "# Build model\n",
        "model = Sequential()\n",
        "model.add(Embedding(input_dim=num_input_tokens, input_length=max_url_seq_length, output_dim=EMBEDDING_SIZE))\n",
        "model.add(SpatialDropout1D(0.2))\n",
        "model.add(Conv1D(filters=256, kernel_size=5, padding='same', activation='relu'))\n",
        "model.add(MaxPooling1D(pool_size=4))\n",
        "model.add(Dense(units=2, activation='softmax'))\n",
        "model.compile(optimizer='adam', loss='categorical_crossentropy', metrics=['accuracy'])\n"
      ],
      "execution_count": 0,
      "outputs": []
    },
    {
      "metadata": {
        "id": "_7ianhsEfDgm",
        "colab_type": "code",
        "outputId": "7a3611f7-72eb-4d6f-9574-1763e4ede432",
        "colab": {
          "base_uri": "https://localhost:8080/",
          "height": 411
        }
      },
      "cell_type": "code",
      "source": [
        "model.fit(Xtrain, Ytrain, batch_size=64, epochs=10, verbose=1,\n",
        "                                 validation_data=(Xtest, Ytest))"
      ],
      "execution_count": 0,
      "outputs": [
        {
          "output_type": "stream",
          "text": [
            "Train on 2073 samples, validate on 519 samples\n",
            "Epoch 1/10\n",
            "2073/2073 [==============================] - 4s 2ms/step - loss: 0.5061 - acc: 0.6922 - val_loss: 0.2552 - val_acc: 0.9017\n",
            "Epoch 2/10\n",
            "2073/2073 [==============================] - 2s 939us/step - loss: 0.1561 - acc: 0.9489 - val_loss: 0.0860 - val_acc: 0.9672\n",
            "Epoch 3/10\n",
            "2073/2073 [==============================] - 2s 938us/step - loss: 0.1178 - acc: 0.9614 - val_loss: 0.1065 - val_acc: 0.9788\n",
            "Epoch 4/10\n",
            "2073/2073 [==============================] - 2s 967us/step - loss: 0.0797 - acc: 0.9802 - val_loss: 0.0713 - val_acc: 0.9807\n",
            "Epoch 5/10\n",
            "2073/2073 [==============================] - 2s 973us/step - loss: 0.0485 - acc: 0.9870 - val_loss: 0.1290 - val_acc: 0.9557\n",
            "Epoch 6/10\n",
            "2073/2073 [==============================] - 2s 976us/step - loss: 0.0938 - acc: 0.9686 - val_loss: 0.0781 - val_acc: 0.9769\n",
            "Epoch 7/10\n",
            "2073/2073 [==============================] - 2s 969us/step - loss: 0.0461 - acc: 0.9879 - val_loss: 0.0592 - val_acc: 0.9807\n",
            "Epoch 8/10\n",
            "2073/2073 [==============================] - 2s 972us/step - loss: 0.0437 - acc: 0.9865 - val_loss: 0.0731 - val_acc: 0.9769\n",
            "Epoch 9/10\n",
            "2073/2073 [==============================] - 2s 968us/step - loss: 0.0249 - acc: 0.9928 - val_loss: 0.0589 - val_acc: 0.9788\n",
            "Epoch 10/10\n",
            "2073/2073 [==============================] - 2s 969us/step - loss: 0.0174 - acc: 0.9932 - val_loss: 0.0729 - val_acc: 0.9769\n"
          ],
          "name": "stdout"
        },
        {
          "output_type": "execute_result",
          "data": {
            "text/plain": [
              "<keras.callbacks.History at 0x7f89d8414a58>"
            ]
          },
          "metadata": {
            "tags": []
          },
          "execution_count": 123
        }
      ]
    },
    {
      "metadata": {
        "id": "IVGyVmFXiK0z",
        "colab_type": "code",
        "colab": {}
      },
      "cell_type": "code",
      "source": [
        "# Questions 3.3\n",
        "\n",
        "# from the validation accuracy on the data\n",
        "# it seems like cnn produces a better result"
      ],
      "execution_count": 0,
      "outputs": []
    }
  ]
}